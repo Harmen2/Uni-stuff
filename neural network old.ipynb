{
 "cells": [
  {
   "cell_type": "code",
   "execution_count": 34,
   "metadata": {},
   "outputs": [],
   "source": [
    "import jax.numpy as np\n",
    "from jax import random\n",
    "import matplotlib.pyplot as plt\n",
    "\n",
    "def sigmoid(X):\n",
    "    return 1./(1 + np.exp(-X))\n",
    "\n",
    "def add_bias(X):\n",
    "    return np.concatenate([np.ones((X.shape[0],1)), X], axis=1)\n",
    "\n",
    "\n",
    "jax_key = random.PRNGKey(0)\n",
    "\n",
    "def one_layer_init(input_size, output_size):\n",
    "    return random.uniform(key=jax_key, shape=(output_size, input_size + 1), minval=-3, maxval=3)\n",
    "\n",
    "def compute_layer(A_j, Theta_j):\n",
    "    z = np.dot(A_j, Theta_j.T)\n",
    "    return sigmoid(z)\n",
    "\n",
    "def n_layer_init(layer_sizes):\n",
    "    weights = []\n",
    "    for l_idx in range(len(layer_sizes)-1):\n",
    "        weights.append( one_layer_init(input_size=layer_sizes[l_idx], output_size=layer_sizes[l_idx+1]) )\n",
    "    return weights\n",
    "\n",
    "def forward_prop(X, Thetas):\n",
    "    A0 = add_bias(X)\n",
    "    outputs = [A0]\n",
    "    for theta in Thetas[:-1]:\n",
    "        A = compute_layer(outputs[-1], theta)\n",
    "        outputs.append( add_bias(A) )\n",
    "    return outputs + [compute_layer(outputs[-1], Thetas[-1])]\n",
    "\n",
    "def output_delta(A_j, Y):\n",
    "    return A_j - Y\n",
    "\n",
    "def weight_update(A_j, Delta_next, Theta_j, rate):\n",
    "    return Theta_j - rate * np.dot(Delta_next.T, A_j)"
   ]
  },
  {
   "cell_type": "code",
   "execution_count": 35,
   "metadata": {},
   "outputs": [
    {
     "data": {
      "image/png": "[encoded data removed]",
      "text/plain": [
       "<Figure size 640x480 with 1 Axes>"
      ]
     },
     "metadata": {},
     "output_type": "display_data"
    }
   ],
   "source": [
    "import numpy as np\n",
    "scale = 0.2\n",
    "\n",
    "start = 1\n",
    "\n",
    "amount = 4\n",
    "\n",
    "\n",
    "\n",
    "data = np.concatenate((\n",
    "np.hstack((\n",
    "    np.vstack(np.random.normal(start, scale, amount)),\n",
    "    np.vstack(np.random.normal(start, scale, amount))\n",
    "    )),\n",
    "np.hstack((\n",
    "    np.vstack(np.random.normal(start+1, scale, amount)),\n",
    "    np.vstack(np.random.normal(start+1, scale, amount))\n",
    "    ))\n",
    "    ))\n",
    "\n",
    "\n",
    "\n",
    "plt.scatter(np.random.normal(start, scale, amount) ,np.random.normal(start, scale, amount),color=\"r\",label=\"first\")\n",
    "plt.xlim(0,3)\n",
    "plt.ylim(0,3)\n",
    "plt.scatter(np.random.normal(start+1, scale, amount) ,np.random.normal(start+1, scale, amount),color=\"b\",label=\"second\")\n",
    "plt.legend()\n",
    "\n",
    "labels= np.hstack(([1]*amount,[0]*amount))"
   ]
  },
  {
   "cell_type": "code",
   "execution_count": 36,
   "metadata": {},
   "outputs": [
    {
     "name": "stdout",
     "output_type": "stream",
     "text": [
      "[Array([[ 2.7919285, -1.1119101,  0.7981796]], dtype=float32)]\n",
      "[[ 2.7919285 -1.1119101  0.7981796]]\n"
     ]
    }
   ],
   "source": [
    "print(n_layer_init([2,1]))\n",
    "print(one_layer_init(2,1))"
   ]
  },
  {
   "cell_type": "code",
   "execution_count": 37,
   "metadata": {},
   "outputs": [
    {
     "name": "stdout",
     "output_type": "stream",
     "text": [
      "[Array([[ 0.44700265, -2.4018838 ,  1.4517953 ],\n",
      "       [ 2.3650696 ,  0.57939935, -0.28048897]], dtype=float32), Array([[ 2.7919285, -1.1119101,  0.7981796]], dtype=float32)]\n"
     ]
    },
    {
     "data": {
      "text/plain": [
       "[array([[1.        , 0.75152424, 0.96648286],\n",
       "        [1.        , 0.72041537, 1.51458569],\n",
       "        [1.        , 1.14808981, 1.07071667],\n",
       "        [1.        , 1.13283734, 0.80253019],\n",
       "        [1.        , 1.9561729 , 2.0231739 ],\n",
       "        [1.        , 2.01297316, 1.78349134],\n",
       "        [1.        , 2.00425964, 2.19508499],\n",
       "        [1.        , 1.90511117, 2.14667088]]),\n",
       " array([[1.        , 0.5112641 , 0.92617833],\n",
       "        [1.        , 0.7141278 , 0.91354063],\n",
       "        [1.        , 0.3194905 , 0.93877084],\n",
       "        [1.        , 0.2480888 , 0.9424774 ],\n",
       "        [1.        , 0.21177437, 0.94935763],\n",
       "        [1.        , 0.14201418, 0.95396106],\n",
       "        [1.        , 0.23501947, 0.94836987],\n",
       "        [1.        , 0.26652484, 0.94617922]]),\n",
       " array([[0.95086056],\n",
       "        [0.93860418],\n",
       "        [0.9603037 ],\n",
       "        [0.96332665],\n",
       "        [0.96491317],\n",
       "        [0.96756215],\n",
       "        [0.96400018],\n",
       "        [0.96270177]])]"
      ]
     },
     "execution_count": 37,
     "metadata": {},
     "output_type": "execute_result"
    }
   ],
   "source": [
    "print(n_layer_init([2,2,1]))\n",
    "forward_prop(data, n_layer_init([2,2,1]))"
   ]
  },
  {
   "cell_type": "code",
   "execution_count": 38,
   "metadata": {},
   "outputs": [
    {
     "data": {
      "text/plain": [
       "array([[-0.04913944, -0.04913944, -0.04913944, -0.04913944,  0.95086056,\n",
       "         0.95086056,  0.95086056,  0.95086056],\n",
       "       [-0.06139582, -0.06139582, -0.06139582, -0.06139582,  0.93860418,\n",
       "         0.93860418,  0.93860418,  0.93860418],\n",
       "       [-0.0396963 , -0.0396963 , -0.0396963 , -0.0396963 ,  0.9603037 ,\n",
       "         0.9603037 ,  0.9603037 ,  0.9603037 ],\n",
       "       [-0.03667335, -0.03667335, -0.03667335, -0.03667335,  0.96332665,\n",
       "         0.96332665,  0.96332665,  0.96332665],\n",
       "       [-0.03508683, -0.03508683, -0.03508683, -0.03508683,  0.96491317,\n",
       "         0.96491317,  0.96491317,  0.96491317],\n",
       "       [-0.03243785, -0.03243785, -0.03243785, -0.03243785,  0.96756215,\n",
       "         0.96756215,  0.96756215,  0.96756215],\n",
       "       [-0.03599982, -0.03599982, -0.03599982, -0.03599982,  0.96400018,\n",
       "         0.96400018,  0.96400018,  0.96400018],\n",
       "       [-0.03729823, -0.03729823, -0.03729823, -0.03729823,  0.96270177,\n",
       "         0.96270177,  0.96270177,  0.96270177]])"
      ]
     },
     "execution_count": 38,
     "metadata": {},
     "output_type": "execute_result"
    }
   ],
   "source": [
    "output_delta(A_j=forward_prop(data, n_layer_init([2,2,1]))[-1], Y=labels)"
   ]
  },
  {
   "cell_type": "code",
   "execution_count": 39,
   "metadata": {},
   "outputs": [],
   "source": [
    "def hidden_delta(A_j, Delta_next, Theta_j):\n",
    "    return A_j * (1-A_j) * np.dot(Delta_next, Theta_j)"
   ]
  },
  {
   "cell_type": "code",
   "execution_count": null,
   "metadata": {},
   "outputs": [],
   "source": []
  },
  {
   "cell_type": "code",
   "execution_count": 40,
   "metadata": {},
   "outputs": [
    {
     "name": "stdout",
     "output_type": "stream",
     "text": [
      "[Array([[ 0.44700265, -2.4018838 ,  1.4517953 ],\n",
      "       [ 2.3650696 ,  0.57939935, -0.28048897]], dtype=float32), Array([[ 2.7919285, -1.1119101,  0.7981796]], dtype=float32)]\n"
     ]
    }
   ],
   "source": [
    "print(n_layer_init([2,2,1]))"
   ]
  },
  {
   "cell_type": "code",
   "execution_count": 41,
   "metadata": {},
   "outputs": [],
   "source": [
    "Theta_j=n_layer_init([2,2,1])\n",
    "Theta_j[-1]= weight_update(\n",
    "A_j=forward_prop(data, Theta_j)[-2], \n",
    "Delta_next=output_delta(A_j=forward_prop(data, Theta_j)[-1], Y=labels), \n",
    "Theta_j=Theta_j[-1], \n",
    "rate=0.9\n",
    ")"
   ]
  },
  {
   "cell_type": "code",
   "execution_count": 42,
   "metadata": {},
   "outputs": [
    {
     "data": {
      "text/plain": [
       "array([[-0.        ,  0.02741381, -0.00807567],\n",
       "       [-0.        ,  0.02767079, -0.0114952 ],\n",
       "       [-0.        ,  0.01947251, -0.00557316],\n",
       "       [-0.        ,  0.01549491, -0.00489215],\n",
       "       [-0.        ,  0.01327346, -0.00416087],\n",
       "       [-0.        ,  0.00898452, -0.00354269],\n",
       "       [-0.        ,  0.01464978, -0.00433623],\n",
       "       [-0.        ,  0.01647881, -0.00465743]])"
      ]
     },
     "execution_count": 42,
     "metadata": {},
     "output_type": "execute_result"
    }
   ],
   "source": [
    "hidden_delta(\n",
    "A_j=forward_prop(data, Theta_j)[-2], \n",
    "Delta_next=output_delta(A_j=forward_prop(data, Theta_j)[-1], Y=labels), \n",
    "Theta_j=Theta_j[-1]\n",
    ")"
   ]
  },
  {
   "cell_type": "code",
   "execution_count": 43,
   "metadata": {},
   "outputs": [
    {
     "data": {
      "text/plain": [
       "array([[ 0.02741381, -0.00807567],\n",
       "       [ 0.02767079, -0.0114952 ],\n",
       "       [ 0.01947251, -0.00557316],\n",
       "       [ 0.01549491, -0.00489215],\n",
       "       [ 0.01327346, -0.00416087],\n",
       "       [ 0.00898452, -0.00354269],\n",
       "       [ 0.01464978, -0.00433623],\n",
       "       [ 0.01647881, -0.00465743]])"
      ]
     },
     "execution_count": 43,
     "metadata": {},
     "output_type": "execute_result"
    }
   ],
   "source": [
    "hidden_delta(\n",
    "A_j=forward_prop(data, Theta_j)[-2], \n",
    "Delta_next=output_delta(A_j=forward_prop(data, Theta_j)[-1], Y=labels), \n",
    "Theta_j=Theta_j[-1]\n",
    ")[:, 1:]"
   ]
  },
  {
   "cell_type": "code",
   "execution_count": 44,
   "metadata": {},
   "outputs": [],
   "source": [
    "Theta_j[-2]=weight_update(\n",
    "A_j=forward_prop(data, Theta_j)[-3], \n",
    "\n",
    "Delta_next=hidden_delta(\n",
    "A_j=forward_prop(data, Theta_j)[-2], \n",
    "Delta_next=output_delta(A_j=forward_prop(data, Theta_j)[-1], Y=labels), \n",
    "Theta_j=Theta_j[-1]\n",
    ")[:, 1:], \n",
    "\n",
    "Theta_j=Theta_j[-2], \n",
    "rate=0.9\n",
    ")"
   ]
  },
  {
   "cell_type": "code",
   "execution_count": 45,
   "metadata": {},
   "outputs": [
    {
     "data": {
      "text/plain": [
       "array([[-0.        ,  0.02348796, -0.00637352],\n",
       "       [-0.        ,  0.02868406, -0.00871349],\n",
       "       [-0.        ,  0.01362563, -0.00430822],\n",
       "       [-0.        ,  0.01079454, -0.00393674],\n",
       "       [-0.        ,  0.00654969, -0.00289789],\n",
       "       [-0.        ,  0.00434312, -0.0025773 ],\n",
       "       [-0.        ,  0.00711335, -0.00294206],\n",
       "       [-0.        ,  0.00842638, -0.00315401]])"
      ]
     },
     "execution_count": 45,
     "metadata": {},
     "output_type": "execute_result"
    }
   ],
   "source": [
    "hidden_delta(\n",
    "        A_j=forward_prop(data, Theta_j)[-2], \n",
    "        Delta_next=output_delta(A_j=forward_prop(data, Theta_j)[-1], Y=labels), \n",
    "        Theta_j=Theta_j[-1])"
   ]
  },
  {
   "cell_type": "code",
   "execution_count": 46,
   "metadata": {},
   "outputs": [
    {
     "data": {
      "text/plain": [
       "<matplotlib.legend.Legend at 0x22ca0fa2800>"
      ]
     },
     "execution_count": 46,
     "metadata": {},
     "output_type": "execute_result"
    },
    {
     "data": {
      "image/png": "[encoded data removed]",
      "text/plain": [
       "<Figure size 640x480 with 1 Axes>"
      ]
     },
     "metadata": {},
     "output_type": "display_data"
    }
   ],
   "source": [
    "Theta_j=n_layer_init([2,2,1])\n",
    "labels = np.vstack(labels)\n",
    "for _ in range(500):\n",
    "    Theta_j[1]= weight_update(\n",
    "    A_j=forward_prop(data, Theta_j)[-2], \n",
    "    Delta_next=output_delta(A_j=forward_prop(data, Theta_j)[-1], Y=labels), \n",
    "    Theta_j=Theta_j[1], \n",
    "    rate=0.5\n",
    "    )\n",
    "    Theta_j[0]=weight_update(\n",
    "    A_j=forward_prop(data, Theta_j)[-3], \n",
    "\n",
    "    Delta_next=hidden_delta(\n",
    "        A_j=forward_prop(data, Theta_j)[-2], \n",
    "        Delta_next=output_delta(A_j=forward_prop(data, Theta_j)[-1], Y=labels), \n",
    "        Theta_j=Theta_j[1]\n",
    "        )[:, 1:], \n",
    "\n",
    "    Theta_j=Theta_j[0], \n",
    "    rate=0.5\n",
    "    )\n",
    "\n",
    "idx0 = np.where(forward_prop(data,Theta_j)[-1] <= 0.5)\n",
    "idx1 = np.where(forward_prop(data,Theta_j)[-1] > 0.5)\n",
    "\n",
    "plt.scatter(data[:amount,0] ,data[:amount,1],color=\"r\",label=\"first\")\n",
    "\n",
    "\n",
    "plt.scatter(data[amount:,0] ,data[amount:,1],color=\"b\",label=\"second\",)\n",
    "plt.legend()\n",
    "\n",
    "\n",
    "plt.scatter(data[idx0,0],data[idx0,1],color=\"r\",          \n",
    "            edgecolor=\"black\")\n",
    "plt.scatter(data[idx1,0],data[idx1,1],color=\"b\",      \n",
    "            edgecolor=\"black\")\n",
    "\n",
    "\n",
    "plt.suptitle(\"Decision surface of decision trees trained on pairs of features\")\n",
    "plt.legend(loc=\"lower right\", borderpad=0, handletextpad=0)\n",
    "\n"
   ]
  },
  {
   "cell_type": "code",
   "execution_count": 47,
   "metadata": {},
   "outputs": [
    {
     "data": {
      "text/plain": [
       "array([[0.99891282],\n",
       "       [0.99715714],\n",
       "       [0.99623265],\n",
       "       [0.99832028],\n",
       "       [0.00192285],\n",
       "       [0.00279362],\n",
       "       [0.0013298 ],\n",
       "       [0.0017184 ]])"
      ]
     },
     "execution_count": 47,
     "metadata": {},
     "output_type": "execute_result"
    }
   ],
   "source": [
    "forward_prop(data,Theta_j)[-1]"
   ]
  },
  {
   "cell_type": "code",
   "execution_count": 49,
   "metadata": {},
   "outputs": [
    {
     "data": {
      "text/plain": [
       "<matplotlib.collections.PathCollection at 0x22ca19bd930>"
      ]
     },
     "execution_count": 49,
     "metadata": {},
     "output_type": "execute_result"
    },
    {
     "data": {
      "image/png": "[encoded data removed]",
      "text/plain": [
       "<Figure size 640x480 with 1 Axes>"
      ]
     },
     "metadata": {},
     "output_type": "display_data"
    }
   ],
   "source": [
    "number_of_datapoints = 100\n",
    "line = np.vstack(np.linspace(0,3,number_of_datapoints))\n",
    "fakedata = np.array([[0,0]])\n",
    "for datapoint in line:\n",
    "    \n",
    "    fakedata=np.vstack((fakedata,np.hstack((line,np.vstack(np.linspace(datapoint,datapoint,number_of_datapoints))))))\n",
    "idx0 = np.where(forward_prop(fakedata,Theta_j)[-1][:,0] <= 0.5)\n",
    "idx1 = np.where(forward_prop(fakedata,Theta_j)[-1][:,0] > 0.5)\n",
    "\n",
    "\n",
    "plt.scatter(data[:amount,0] ,data[:amount,1],color=\"r\",label=\"first\")\n",
    "\n",
    "\n",
    "plt.scatter(data[amount:,0] ,data[amount:,1],color=\"b\",label=\"second\",)\n",
    "plt.legend()\n",
    "\n",
    "plt.scatter(fakedata[idx0,0],fakedata[idx0,1],color=\"r\",s=0.1)\n",
    "plt.scatter(fakedata[idx1,0],fakedata[idx1,1],color=\"b\",s=0.1)\n",
    "\n"
   ]
  }
 ],
 "metadata": {
  "kernelspec": {
   "display_name": "Python 3",
   "language": "python",
   "name": "python3"
  },
  "language_info": {
   "codemirror_mode": {
    "name": "ipython",
    "version": 3
   },
   "file_extension": ".py",
   "mimetype": "text/x-python",
   "name": "python",
   "nbconvert_exporter": "python",
   "pygments_lexer": "ipython3",
   "version": "3.10.11"
  }
 },
 "nbformat": 4,
 "nbformat_minor": 2
}
